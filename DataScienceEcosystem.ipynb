{
 "cells": [
  {
   "cell_type": "markdown",
   "id": "4faa2c18-3f26-461a-bf1b-5d0c1ea8d5f8",
   "metadata": {},
   "source": [
    "# Data Science Tools and Ecosystem"
   ]
  },
  {
   "cell_type": "markdown",
   "id": "684fae63-f959-4f1e-860b-2fffd74d2e79",
   "metadata": {
    "tags": []
   },
   "source": [
    "In this notebook, Data Science Tools and Ecosystem are summarized."
   ]
  },
  {
   "cell_type": "markdown",
   "id": "6b445e49-39b3-43f0-860a-68f7875f60cf",
   "metadata": {},
   "source": [
    "__Objectives__\n",
    "- Listing some popular languages that Data Scientists use\n",
    "- Listing some popular libraries that Data Scientists use\n",
    "- Charting some common Data Science Tools\n",
    "- Providing examples of arithmetic expressions in Python"
   ]
  },
  {
   "cell_type": "markdown",
   "id": "a8154a58-4c22-44da-83b5-957fea363a2e",
   "metadata": {},
   "source": [
    "Some of the popular languages that Data Scientists use are:\n",
    "1. Python\n",
    "2. R\n",
    "3. SQL"
   ]
  },
  {
   "cell_type": "markdown",
   "id": "385ea0e7-ba06-465e-b39d-a9876bf3ff99",
   "metadata": {},
   "source": [
    "Some of the commonly used libraries used by Data Scientists include:\n",
    "1. Pandas\n",
    "2. NumPy\n",
    "3. Matplotlib"
   ]
  },
  {
   "cell_type": "markdown",
   "id": "7bb7f093-c8db-4f26-9bc5-e913ed0dfb9c",
   "metadata": {
    "tags": []
   },
   "source": [
    "| Data Science Tools |\n",
    "| - |\n",
    "| JupyterLab |\n",
    "| Anaconda |\n",
    "| VSCode |"
   ]
  },
  {
   "cell_type": "markdown",
   "id": "273e0228-beb8-4f3f-8964-1e2dc56b1713",
   "metadata": {},
   "source": [
    "### Below are a few examples of evaluating arithmetic expressions in Python"
   ]
  },
  {
   "cell_type": "code",
   "execution_count": 5,
   "id": "7c39fb14-d94a-420b-82d9-f9a041eac63a",
   "metadata": {
    "tags": []
   },
   "outputs": [
    {
     "data": {
      "text/plain": [
       "17"
      ]
     },
     "execution_count": 5,
     "metadata": {},
     "output_type": "execute_result"
    }
   ],
   "source": [
    "# This is a simple arithmetic expression to multiply then add integers\n",
    "(3*4)+5"
   ]
  },
  {
   "cell_type": "code",
   "execution_count": 6,
   "id": "d2b176d5-bb91-4155-9d3f-5c82325a841a",
   "metadata": {
    "tags": []
   },
   "outputs": [
    {
     "data": {
      "text/plain": [
       "3.3333333333333335"
      ]
     },
     "execution_count": 6,
     "metadata": {},
     "output_type": "execute_result"
    }
   ],
   "source": [
    "# This will convert 200 minutes to hours by dividing by 60\n",
    "200/60"
   ]
  },
  {
   "cell_type": "markdown",
   "id": "d72fb53f-e13e-468e-a88c-4df00033ef14",
   "metadata": {},
   "source": [
    "## Author\n",
    "John Nordberg"
   ]
  }
 ],
 "metadata": {
  "kernelspec": {
   "display_name": "Python",
   "language": "python",
   "name": "conda-env-python-py"
  },
  "language_info": {
   "codemirror_mode": {
    "name": "ipython",
    "version": 3
   },
   "file_extension": ".py",
   "mimetype": "text/x-python",
   "name": "python",
   "nbconvert_exporter": "python",
   "pygments_lexer": "ipython3",
   "version": "3.7.12"
  }
 },
 "nbformat": 4,
 "nbformat_minor": 5
}
